{
 "cells": [
  {
   "cell_type": "markdown",
   "metadata": {},
   "source": [
    "# Import data"
   ]
  },
  {
   "cell_type": "code",
   "execution_count": 124,
   "metadata": {},
   "outputs": [],
   "source": [
    "import pandas as pd\n",
    "import numpy as np\n",
    "import matplotlib.pyplot as plt\n",
    "import matplotlib.patches as mpatches\n",
    "import seaborn as sns\n",
    "plt.style.use('ggplot')\n"
   ]
  },
  {
   "cell_type": "code",
   "execution_count": 2,
   "metadata": {},
   "outputs": [
    {
     "data": {
      "text/plain": [
       "'3.5.1'"
      ]
     },
     "execution_count": 2,
     "metadata": {},
     "output_type": "execute_result"
    }
   ],
   "source": [
    "import matplotlib \n",
    "matplotlib.__version__"
   ]
  },
  {
   "cell_type": "code",
   "execution_count": 3,
   "metadata": {},
   "outputs": [],
   "source": [
    "# pip install --user matplotlib --upgrade"
   ]
  },
  {
   "cell_type": "code",
   "execution_count": 4,
   "metadata": {
    "scrolled": true
   },
   "outputs": [],
   "source": [
    "df=pd.read_csv('AviationData.csv', parse_dates=['Event.Date'], encoding='iso-8859-1', low_memory=False)"
   ]
  },
  {
   "cell_type": "code",
   "execution_count": 5,
   "metadata": {},
   "outputs": [
    {
     "data": {
      "text/plain": [
       "(87282, 31)"
      ]
     },
     "execution_count": 5,
     "metadata": {},
     "output_type": "execute_result"
    }
   ],
   "source": [
    "df.shape"
   ]
  },
  {
   "cell_type": "code",
   "execution_count": 6,
   "metadata": {},
   "outputs": [
    {
     "data": {
      "text/html": [
       "<div>\n",
       "<style scoped>\n",
       "    .dataframe tbody tr th:only-of-type {\n",
       "        vertical-align: middle;\n",
       "    }\n",
       "\n",
       "    .dataframe tbody tr th {\n",
       "        vertical-align: top;\n",
       "    }\n",
       "\n",
       "    .dataframe thead th {\n",
       "        text-align: right;\n",
       "    }\n",
       "</style>\n",
       "<table border=\"1\" class=\"dataframe\">\n",
       "  <thead>\n",
       "    <tr style=\"text-align: right;\">\n",
       "      <th></th>\n",
       "      <th>Event.Id</th>\n",
       "      <th>Investigation.Type</th>\n",
       "      <th>Accident.Number</th>\n",
       "      <th>Event.Date</th>\n",
       "      <th>Location</th>\n",
       "      <th>Country</th>\n",
       "      <th>Latitude</th>\n",
       "      <th>Longitude</th>\n",
       "      <th>Airport.Code</th>\n",
       "      <th>Airport.Name</th>\n",
       "      <th>Injury.Severity</th>\n",
       "      <th>Aircraft.damage</th>\n",
       "      <th>Aircraft.Category</th>\n",
       "      <th>Registration.Number</th>\n",
       "      <th>Make</th>\n",
       "      <th>Model</th>\n",
       "      <th>Amateur.Built</th>\n",
       "      <th>Number.of.Engines</th>\n",
       "      <th>Engine.Type</th>\n",
       "      <th>FAR.Description</th>\n",
       "      <th>Schedule</th>\n",
       "      <th>Purpose.of.flight</th>\n",
       "      <th>Air.carrier</th>\n",
       "      <th>Total.Fatal.Injuries</th>\n",
       "      <th>Total.Serious.Injuries</th>\n",
       "      <th>Total.Minor.Injuries</th>\n",
       "      <th>Total.Uninjured</th>\n",
       "      <th>Weather.Condition</th>\n",
       "      <th>Broad.phase.of.flight</th>\n",
       "      <th>Report.Status</th>\n",
       "      <th>Publication.Date</th>\n",
       "    </tr>\n",
       "  </thead>\n",
       "  <tbody>\n",
       "    <tr>\n",
       "      <th>0</th>\n",
       "      <td>20001218X45444</td>\n",
       "      <td>Accident</td>\n",
       "      <td>SEA87LA080</td>\n",
       "      <td>1948-10-24</td>\n",
       "      <td>MOOSE CREEK, ID</td>\n",
       "      <td>United States</td>\n",
       "      <td>NaN</td>\n",
       "      <td>NaN</td>\n",
       "      <td>NaN</td>\n",
       "      <td>NaN</td>\n",
       "      <td>Fatal(2)</td>\n",
       "      <td>Destroyed</td>\n",
       "      <td>NaN</td>\n",
       "      <td>NC6404</td>\n",
       "      <td>Stinson</td>\n",
       "      <td>108-3</td>\n",
       "      <td>No</td>\n",
       "      <td>1.0</td>\n",
       "      <td>Reciprocating</td>\n",
       "      <td>NaN</td>\n",
       "      <td>NaN</td>\n",
       "      <td>Personal</td>\n",
       "      <td>NaN</td>\n",
       "      <td>2.0</td>\n",
       "      <td>0.0</td>\n",
       "      <td>0.0</td>\n",
       "      <td>0.0</td>\n",
       "      <td>UNK</td>\n",
       "      <td>Cruise</td>\n",
       "      <td>Probable Cause</td>\n",
       "      <td>NaN</td>\n",
       "    </tr>\n",
       "    <tr>\n",
       "      <th>1</th>\n",
       "      <td>20001218X45447</td>\n",
       "      <td>Accident</td>\n",
       "      <td>LAX94LA336</td>\n",
       "      <td>1962-07-19</td>\n",
       "      <td>BRIDGEPORT, CA</td>\n",
       "      <td>United States</td>\n",
       "      <td>NaN</td>\n",
       "      <td>NaN</td>\n",
       "      <td>NaN</td>\n",
       "      <td>NaN</td>\n",
       "      <td>Fatal(4)</td>\n",
       "      <td>Destroyed</td>\n",
       "      <td>NaN</td>\n",
       "      <td>N5069P</td>\n",
       "      <td>Piper</td>\n",
       "      <td>PA24-180</td>\n",
       "      <td>No</td>\n",
       "      <td>1.0</td>\n",
       "      <td>Reciprocating</td>\n",
       "      <td>NaN</td>\n",
       "      <td>NaN</td>\n",
       "      <td>Personal</td>\n",
       "      <td>NaN</td>\n",
       "      <td>4.0</td>\n",
       "      <td>0.0</td>\n",
       "      <td>0.0</td>\n",
       "      <td>0.0</td>\n",
       "      <td>UNK</td>\n",
       "      <td>Unknown</td>\n",
       "      <td>Probable Cause</td>\n",
       "      <td>19-09-1996</td>\n",
       "    </tr>\n",
       "    <tr>\n",
       "      <th>2</th>\n",
       "      <td>20061025X01555</td>\n",
       "      <td>Accident</td>\n",
       "      <td>NYC07LA005</td>\n",
       "      <td>1974-08-30</td>\n",
       "      <td>Saltville, VA</td>\n",
       "      <td>United States</td>\n",
       "      <td>36.922223</td>\n",
       "      <td>-81.878056</td>\n",
       "      <td>NaN</td>\n",
       "      <td>NaN</td>\n",
       "      <td>Fatal(3)</td>\n",
       "      <td>Destroyed</td>\n",
       "      <td>NaN</td>\n",
       "      <td>N5142R</td>\n",
       "      <td>Cessna</td>\n",
       "      <td>172M</td>\n",
       "      <td>No</td>\n",
       "      <td>1.0</td>\n",
       "      <td>Reciprocating</td>\n",
       "      <td>NaN</td>\n",
       "      <td>NaN</td>\n",
       "      <td>Personal</td>\n",
       "      <td>NaN</td>\n",
       "      <td>3.0</td>\n",
       "      <td>NaN</td>\n",
       "      <td>NaN</td>\n",
       "      <td>NaN</td>\n",
       "      <td>IMC</td>\n",
       "      <td>Cruise</td>\n",
       "      <td>Probable Cause</td>\n",
       "      <td>26-02-2007</td>\n",
       "    </tr>\n",
       "    <tr>\n",
       "      <th>3</th>\n",
       "      <td>20001218X45448</td>\n",
       "      <td>Accident</td>\n",
       "      <td>LAX96LA321</td>\n",
       "      <td>1977-06-19</td>\n",
       "      <td>EUREKA, CA</td>\n",
       "      <td>United States</td>\n",
       "      <td>NaN</td>\n",
       "      <td>NaN</td>\n",
       "      <td>NaN</td>\n",
       "      <td>NaN</td>\n",
       "      <td>Fatal(2)</td>\n",
       "      <td>Destroyed</td>\n",
       "      <td>NaN</td>\n",
       "      <td>N1168J</td>\n",
       "      <td>Rockwell</td>\n",
       "      <td>112</td>\n",
       "      <td>No</td>\n",
       "      <td>1.0</td>\n",
       "      <td>Reciprocating</td>\n",
       "      <td>NaN</td>\n",
       "      <td>NaN</td>\n",
       "      <td>Personal</td>\n",
       "      <td>NaN</td>\n",
       "      <td>2.0</td>\n",
       "      <td>0.0</td>\n",
       "      <td>0.0</td>\n",
       "      <td>0.0</td>\n",
       "      <td>IMC</td>\n",
       "      <td>Cruise</td>\n",
       "      <td>Probable Cause</td>\n",
       "      <td>12-09-2000</td>\n",
       "    </tr>\n",
       "    <tr>\n",
       "      <th>4</th>\n",
       "      <td>20041105X01764</td>\n",
       "      <td>Accident</td>\n",
       "      <td>CHI79FA064</td>\n",
       "      <td>1979-08-02</td>\n",
       "      <td>Canton, OH</td>\n",
       "      <td>United States</td>\n",
       "      <td>NaN</td>\n",
       "      <td>NaN</td>\n",
       "      <td>NaN</td>\n",
       "      <td>NaN</td>\n",
       "      <td>Fatal(1)</td>\n",
       "      <td>Destroyed</td>\n",
       "      <td>NaN</td>\n",
       "      <td>N15NY</td>\n",
       "      <td>Cessna</td>\n",
       "      <td>501</td>\n",
       "      <td>No</td>\n",
       "      <td>NaN</td>\n",
       "      <td>NaN</td>\n",
       "      <td>NaN</td>\n",
       "      <td>NaN</td>\n",
       "      <td>Personal</td>\n",
       "      <td>NaN</td>\n",
       "      <td>1.0</td>\n",
       "      <td>2.0</td>\n",
       "      <td>NaN</td>\n",
       "      <td>0.0</td>\n",
       "      <td>VMC</td>\n",
       "      <td>Approach</td>\n",
       "      <td>Probable Cause</td>\n",
       "      <td>16-04-1980</td>\n",
       "    </tr>\n",
       "  </tbody>\n",
       "</table>\n",
       "</div>"
      ],
      "text/plain": [
       "         Event.Id Investigation.Type Accident.Number Event.Date  \\\n",
       "0  20001218X45444           Accident      SEA87LA080 1948-10-24   \n",
       "1  20001218X45447           Accident      LAX94LA336 1962-07-19   \n",
       "2  20061025X01555           Accident      NYC07LA005 1974-08-30   \n",
       "3  20001218X45448           Accident      LAX96LA321 1977-06-19   \n",
       "4  20041105X01764           Accident      CHI79FA064 1979-08-02   \n",
       "\n",
       "          Location        Country   Latitude   Longitude Airport.Code  \\\n",
       "0  MOOSE CREEK, ID  United States        NaN         NaN          NaN   \n",
       "1   BRIDGEPORT, CA  United States        NaN         NaN          NaN   \n",
       "2    Saltville, VA  United States  36.922223  -81.878056          NaN   \n",
       "3       EUREKA, CA  United States        NaN         NaN          NaN   \n",
       "4       Canton, OH  United States        NaN         NaN          NaN   \n",
       "\n",
       "  Airport.Name Injury.Severity Aircraft.damage Aircraft.Category  \\\n",
       "0          NaN        Fatal(2)       Destroyed               NaN   \n",
       "1          NaN        Fatal(4)       Destroyed               NaN   \n",
       "2          NaN        Fatal(3)       Destroyed               NaN   \n",
       "3          NaN        Fatal(2)       Destroyed               NaN   \n",
       "4          NaN        Fatal(1)       Destroyed               NaN   \n",
       "\n",
       "  Registration.Number      Make     Model Amateur.Built  Number.of.Engines  \\\n",
       "0              NC6404   Stinson     108-3            No                1.0   \n",
       "1              N5069P     Piper  PA24-180            No                1.0   \n",
       "2              N5142R    Cessna      172M            No                1.0   \n",
       "3              N1168J  Rockwell       112            No                1.0   \n",
       "4               N15NY    Cessna       501            No                NaN   \n",
       "\n",
       "     Engine.Type FAR.Description Schedule Purpose.of.flight Air.carrier  \\\n",
       "0  Reciprocating             NaN      NaN          Personal         NaN   \n",
       "1  Reciprocating             NaN      NaN          Personal         NaN   \n",
       "2  Reciprocating             NaN      NaN          Personal         NaN   \n",
       "3  Reciprocating             NaN      NaN          Personal         NaN   \n",
       "4            NaN             NaN      NaN          Personal         NaN   \n",
       "\n",
       "   Total.Fatal.Injuries  Total.Serious.Injuries  Total.Minor.Injuries  \\\n",
       "0                   2.0                     0.0                   0.0   \n",
       "1                   4.0                     0.0                   0.0   \n",
       "2                   3.0                     NaN                   NaN   \n",
       "3                   2.0                     0.0                   0.0   \n",
       "4                   1.0                     2.0                   NaN   \n",
       "\n",
       "   Total.Uninjured Weather.Condition Broad.phase.of.flight   Report.Status  \\\n",
       "0              0.0               UNK                Cruise  Probable Cause   \n",
       "1              0.0               UNK               Unknown  Probable Cause   \n",
       "2              NaN               IMC                Cruise  Probable Cause   \n",
       "3              0.0               IMC                Cruise  Probable Cause   \n",
       "4              0.0               VMC              Approach  Probable Cause   \n",
       "\n",
       "  Publication.Date  \n",
       "0              NaN  \n",
       "1       19-09-1996  \n",
       "2       26-02-2007  \n",
       "3       12-09-2000  \n",
       "4       16-04-1980  "
      ]
     },
     "execution_count": 6,
     "metadata": {},
     "output_type": "execute_result"
    }
   ],
   "source": [
    "pd.options.display.max_columns=None\n",
    "df.head()"
   ]
  },
  {
   "cell_type": "code",
   "execution_count": 7,
   "metadata": {},
   "outputs": [],
   "source": [
    "# correct the time\n",
    "df.loc[87281,'Event.Date']='2021-12-08'"
   ]
  },
  {
   "cell_type": "code",
   "execution_count": 8,
   "metadata": {},
   "outputs": [
    {
     "data": {
      "text/plain": [
       "0"
      ]
     },
     "execution_count": 8,
     "metadata": {},
     "output_type": "execute_result"
    }
   ],
   "source": [
    "# check if it has duplicated rows\n",
    "df.duplicated().sum()"
   ]
  },
  {
   "cell_type": "code",
   "execution_count": 9,
   "metadata": {},
   "outputs": [
    {
     "name": "stdout",
     "output_type": "stream",
     "text": [
      "<class 'pandas.core.frame.DataFrame'>\n",
      "RangeIndex: 87282 entries, 0 to 87281\n",
      "Data columns (total 31 columns):\n",
      " #   Column                  Non-Null Count  Dtype         \n",
      "---  ------                  --------------  -----         \n",
      " 0   Event.Id                87282 non-null  object        \n",
      " 1   Investigation.Type      87282 non-null  object        \n",
      " 2   Accident.Number         87282 non-null  object        \n",
      " 3   Event.Date              87282 non-null  datetime64[ns]\n",
      " 4   Location                87230 non-null  object        \n",
      " 5   Country                 87056 non-null  object        \n",
      " 6   Latitude                33073 non-null  object        \n",
      " 7   Longitude               33064 non-null  object        \n",
      " 8   Airport.Code            49322 non-null  object        \n",
      " 9   Airport.Name            51955 non-null  object        \n",
      " 10  Injury.Severity         86399 non-null  object        \n",
      " 11  Aircraft.damage         84272 non-null  object        \n",
      " 12  Aircraft.Category       30783 non-null  object        \n",
      " 13  Registration.Number     85965 non-null  object        \n",
      " 14  Make                    87219 non-null  object        \n",
      " 15  Model                   87190 non-null  object        \n",
      " 16  Amateur.Built           87180 non-null  object        \n",
      " 17  Number.of.Engines       81533 non-null  float64       \n",
      " 18  Engine.Type             81391 non-null  object        \n",
      " 19  FAR.Description         30458 non-null  object        \n",
      " 20  Schedule                12330 non-null  object        \n",
      " 21  Purpose.of.flight       81493 non-null  object        \n",
      " 22  Air.carrier             15971 non-null  object        \n",
      " 23  Total.Fatal.Injuries    75881 non-null  float64       \n",
      " 24  Total.Serious.Injuries  74772 non-null  float64       \n",
      " 25  Total.Minor.Injuries    75349 non-null  float64       \n",
      " 26  Total.Uninjured         81370 non-null  float64       \n",
      " 27  Weather.Condition       83304 non-null  object        \n",
      " 28  Broad.phase.of.flight   61724 non-null  object        \n",
      " 29  Report.Status           82070 non-null  object        \n",
      " 30  Publication.Date        73629 non-null  object        \n",
      "dtypes: datetime64[ns](1), float64(5), object(25)\n",
      "memory usage: 20.6+ MB\n"
     ]
    }
   ],
   "source": [
    "df.info()"
   ]
  },
  {
   "cell_type": "code",
   "execution_count": 10,
   "metadata": {},
   "outputs": [
    {
     "data": {
      "text/plain": [
       "Event.Id                  0.000000\n",
       "Investigation.Type        0.000000\n",
       "Accident.Number           0.000000\n",
       "Event.Date                0.000000\n",
       "Location                  0.000596\n",
       "Country                   0.002589\n",
       "Latitude                  0.621079\n",
       "Longitude                 0.621182\n",
       "Airport.Code              0.434912\n",
       "Airport.Name              0.404746\n",
       "Injury.Severity           0.010117\n",
       "Aircraft.damage           0.034486\n",
       "Aircraft.Category         0.647316\n",
       "Registration.Number       0.015089\n",
       "Make                      0.000722\n",
       "Model                     0.001054\n",
       "Amateur.Built             0.001169\n",
       "Number.of.Engines         0.065867\n",
       "Engine.Type               0.067494\n",
       "FAR.Description           0.651039\n",
       "Schedule                  0.858734\n",
       "Purpose.of.flight         0.066325\n",
       "Air.carrier               0.817018\n",
       "Total.Fatal.Injuries      0.130623\n",
       "Total.Serious.Injuries    0.143329\n",
       "Total.Minor.Injuries      0.136718\n",
       "Total.Uninjured           0.067734\n",
       "Weather.Condition         0.045576\n",
       "Broad.phase.of.flight     0.292821\n",
       "Report.Status             0.059714\n",
       "Publication.Date          0.156424\n",
       "dtype: float64"
      ]
     },
     "execution_count": 10,
     "metadata": {},
     "output_type": "execute_result"
    }
   ],
   "source": [
    "# calculate null percentage for each column\n",
    "Na_percentage=df.isna().sum()/df.shape[0]\n",
    "Na_percentage"
   ]
  },
  {
   "cell_type": "markdown",
   "metadata": {},
   "source": [
    "# Data cleaning"
   ]
  },
  {
   "cell_type": "code",
   "execution_count": 11,
   "metadata": {},
   "outputs": [],
   "source": [
    "# remove columns that contain over 40% null values\n",
    "df.drop(columns=Na_percentage[Na_percentage>0.4].index, inplace=True)"
   ]
  },
  {
   "cell_type": "code",
   "execution_count": 12,
   "metadata": {},
   "outputs": [
    {
     "data": {
      "text/html": [
       "<div>\n",
       "<style scoped>\n",
       "    .dataframe tbody tr th:only-of-type {\n",
       "        vertical-align: middle;\n",
       "    }\n",
       "\n",
       "    .dataframe tbody tr th {\n",
       "        vertical-align: top;\n",
       "    }\n",
       "\n",
       "    .dataframe thead th {\n",
       "        text-align: right;\n",
       "    }\n",
       "</style>\n",
       "<table border=\"1\" class=\"dataframe\">\n",
       "  <thead>\n",
       "    <tr style=\"text-align: right;\">\n",
       "      <th></th>\n",
       "      <th>Event.Id</th>\n",
       "      <th>Investigation.Type</th>\n",
       "      <th>Accident.Number</th>\n",
       "      <th>Event.Date</th>\n",
       "      <th>Location</th>\n",
       "      <th>Country</th>\n",
       "      <th>Injury.Severity</th>\n",
       "      <th>Aircraft.damage</th>\n",
       "      <th>Registration.Number</th>\n",
       "      <th>Make</th>\n",
       "      <th>Model</th>\n",
       "      <th>Amateur.Built</th>\n",
       "      <th>Number.of.Engines</th>\n",
       "      <th>Engine.Type</th>\n",
       "      <th>Purpose.of.flight</th>\n",
       "      <th>Total.Fatal.Injuries</th>\n",
       "      <th>Total.Serious.Injuries</th>\n",
       "      <th>Total.Minor.Injuries</th>\n",
       "      <th>Total.Uninjured</th>\n",
       "      <th>Weather.Condition</th>\n",
       "      <th>Broad.phase.of.flight</th>\n",
       "      <th>Report.Status</th>\n",
       "      <th>Publication.Date</th>\n",
       "    </tr>\n",
       "  </thead>\n",
       "  <tbody>\n",
       "    <tr>\n",
       "      <th>0</th>\n",
       "      <td>20001218X45444</td>\n",
       "      <td>Accident</td>\n",
       "      <td>SEA87LA080</td>\n",
       "      <td>1948-10-24</td>\n",
       "      <td>MOOSE CREEK, ID</td>\n",
       "      <td>United States</td>\n",
       "      <td>Fatal(2)</td>\n",
       "      <td>Destroyed</td>\n",
       "      <td>NC6404</td>\n",
       "      <td>Stinson</td>\n",
       "      <td>108-3</td>\n",
       "      <td>No</td>\n",
       "      <td>1.0</td>\n",
       "      <td>Reciprocating</td>\n",
       "      <td>Personal</td>\n",
       "      <td>2.0</td>\n",
       "      <td>0.0</td>\n",
       "      <td>0.0</td>\n",
       "      <td>0.0</td>\n",
       "      <td>UNK</td>\n",
       "      <td>Cruise</td>\n",
       "      <td>Probable Cause</td>\n",
       "      <td>NaN</td>\n",
       "    </tr>\n",
       "    <tr>\n",
       "      <th>1</th>\n",
       "      <td>20001218X45447</td>\n",
       "      <td>Accident</td>\n",
       "      <td>LAX94LA336</td>\n",
       "      <td>1962-07-19</td>\n",
       "      <td>BRIDGEPORT, CA</td>\n",
       "      <td>United States</td>\n",
       "      <td>Fatal(4)</td>\n",
       "      <td>Destroyed</td>\n",
       "      <td>N5069P</td>\n",
       "      <td>Piper</td>\n",
       "      <td>PA24-180</td>\n",
       "      <td>No</td>\n",
       "      <td>1.0</td>\n",
       "      <td>Reciprocating</td>\n",
       "      <td>Personal</td>\n",
       "      <td>4.0</td>\n",
       "      <td>0.0</td>\n",
       "      <td>0.0</td>\n",
       "      <td>0.0</td>\n",
       "      <td>UNK</td>\n",
       "      <td>Unknown</td>\n",
       "      <td>Probable Cause</td>\n",
       "      <td>19-09-1996</td>\n",
       "    </tr>\n",
       "    <tr>\n",
       "      <th>2</th>\n",
       "      <td>20061025X01555</td>\n",
       "      <td>Accident</td>\n",
       "      <td>NYC07LA005</td>\n",
       "      <td>1974-08-30</td>\n",
       "      <td>Saltville, VA</td>\n",
       "      <td>United States</td>\n",
       "      <td>Fatal(3)</td>\n",
       "      <td>Destroyed</td>\n",
       "      <td>N5142R</td>\n",
       "      <td>Cessna</td>\n",
       "      <td>172M</td>\n",
       "      <td>No</td>\n",
       "      <td>1.0</td>\n",
       "      <td>Reciprocating</td>\n",
       "      <td>Personal</td>\n",
       "      <td>3.0</td>\n",
       "      <td>NaN</td>\n",
       "      <td>NaN</td>\n",
       "      <td>NaN</td>\n",
       "      <td>IMC</td>\n",
       "      <td>Cruise</td>\n",
       "      <td>Probable Cause</td>\n",
       "      <td>26-02-2007</td>\n",
       "    </tr>\n",
       "    <tr>\n",
       "      <th>3</th>\n",
       "      <td>20001218X45448</td>\n",
       "      <td>Accident</td>\n",
       "      <td>LAX96LA321</td>\n",
       "      <td>1977-06-19</td>\n",
       "      <td>EUREKA, CA</td>\n",
       "      <td>United States</td>\n",
       "      <td>Fatal(2)</td>\n",
       "      <td>Destroyed</td>\n",
       "      <td>N1168J</td>\n",
       "      <td>Rockwell</td>\n",
       "      <td>112</td>\n",
       "      <td>No</td>\n",
       "      <td>1.0</td>\n",
       "      <td>Reciprocating</td>\n",
       "      <td>Personal</td>\n",
       "      <td>2.0</td>\n",
       "      <td>0.0</td>\n",
       "      <td>0.0</td>\n",
       "      <td>0.0</td>\n",
       "      <td>IMC</td>\n",
       "      <td>Cruise</td>\n",
       "      <td>Probable Cause</td>\n",
       "      <td>12-09-2000</td>\n",
       "    </tr>\n",
       "    <tr>\n",
       "      <th>4</th>\n",
       "      <td>20041105X01764</td>\n",
       "      <td>Accident</td>\n",
       "      <td>CHI79FA064</td>\n",
       "      <td>1979-08-02</td>\n",
       "      <td>Canton, OH</td>\n",
       "      <td>United States</td>\n",
       "      <td>Fatal(1)</td>\n",
       "      <td>Destroyed</td>\n",
       "      <td>N15NY</td>\n",
       "      <td>Cessna</td>\n",
       "      <td>501</td>\n",
       "      <td>No</td>\n",
       "      <td>NaN</td>\n",
       "      <td>NaN</td>\n",
       "      <td>Personal</td>\n",
       "      <td>1.0</td>\n",
       "      <td>2.0</td>\n",
       "      <td>NaN</td>\n",
       "      <td>0.0</td>\n",
       "      <td>VMC</td>\n",
       "      <td>Approach</td>\n",
       "      <td>Probable Cause</td>\n",
       "      <td>16-04-1980</td>\n",
       "    </tr>\n",
       "  </tbody>\n",
       "</table>\n",
       "</div>"
      ],
      "text/plain": [
       "         Event.Id Investigation.Type Accident.Number Event.Date  \\\n",
       "0  20001218X45444           Accident      SEA87LA080 1948-10-24   \n",
       "1  20001218X45447           Accident      LAX94LA336 1962-07-19   \n",
       "2  20061025X01555           Accident      NYC07LA005 1974-08-30   \n",
       "3  20001218X45448           Accident      LAX96LA321 1977-06-19   \n",
       "4  20041105X01764           Accident      CHI79FA064 1979-08-02   \n",
       "\n",
       "          Location        Country Injury.Severity Aircraft.damage  \\\n",
       "0  MOOSE CREEK, ID  United States        Fatal(2)       Destroyed   \n",
       "1   BRIDGEPORT, CA  United States        Fatal(4)       Destroyed   \n",
       "2    Saltville, VA  United States        Fatal(3)       Destroyed   \n",
       "3       EUREKA, CA  United States        Fatal(2)       Destroyed   \n",
       "4       Canton, OH  United States        Fatal(1)       Destroyed   \n",
       "\n",
       "  Registration.Number      Make     Model Amateur.Built  Number.of.Engines  \\\n",
       "0              NC6404   Stinson     108-3            No                1.0   \n",
       "1              N5069P     Piper  PA24-180            No                1.0   \n",
       "2              N5142R    Cessna      172M            No                1.0   \n",
       "3              N1168J  Rockwell       112            No                1.0   \n",
       "4               N15NY    Cessna       501            No                NaN   \n",
       "\n",
       "     Engine.Type Purpose.of.flight  Total.Fatal.Injuries  \\\n",
       "0  Reciprocating          Personal                   2.0   \n",
       "1  Reciprocating          Personal                   4.0   \n",
       "2  Reciprocating          Personal                   3.0   \n",
       "3  Reciprocating          Personal                   2.0   \n",
       "4            NaN          Personal                   1.0   \n",
       "\n",
       "   Total.Serious.Injuries  Total.Minor.Injuries  Total.Uninjured  \\\n",
       "0                     0.0                   0.0              0.0   \n",
       "1                     0.0                   0.0              0.0   \n",
       "2                     NaN                   NaN              NaN   \n",
       "3                     0.0                   0.0              0.0   \n",
       "4                     2.0                   NaN              0.0   \n",
       "\n",
       "  Weather.Condition Broad.phase.of.flight   Report.Status Publication.Date  \n",
       "0               UNK                Cruise  Probable Cause              NaN  \n",
       "1               UNK               Unknown  Probable Cause       19-09-1996  \n",
       "2               IMC                Cruise  Probable Cause       26-02-2007  \n",
       "3               IMC                Cruise  Probable Cause       12-09-2000  \n",
       "4               VMC              Approach  Probable Cause       16-04-1980  "
      ]
     },
     "execution_count": 12,
     "metadata": {},
     "output_type": "execute_result"
    }
   ],
   "source": [
    "df.head()"
   ]
  },
  {
   "cell_type": "code",
   "execution_count": 13,
   "metadata": {},
   "outputs": [],
   "source": [
    "# delete country is not USA\n",
    "df=df[df['Country']=='United States']"
   ]
  },
  {
   "cell_type": "code",
   "execution_count": 14,
   "metadata": {},
   "outputs": [],
   "source": [
    "# deleten unused columns\n",
    "df.drop(columns=['Aircraft.damage','Registration.Number', 'Make', 'Model','Report.Status','Publication.Date','Total.Serious.Injuries','Total.Minor.Injuries','Total.Uninjured', 'Total.Fatal.Injuries'], inplace=True)"
   ]
  },
  {
   "cell_type": "code",
   "execution_count": 15,
   "metadata": {},
   "outputs": [
    {
     "data": {
      "text/html": [
       "<div>\n",
       "<style scoped>\n",
       "    .dataframe tbody tr th:only-of-type {\n",
       "        vertical-align: middle;\n",
       "    }\n",
       "\n",
       "    .dataframe tbody tr th {\n",
       "        vertical-align: top;\n",
       "    }\n",
       "\n",
       "    .dataframe thead th {\n",
       "        text-align: right;\n",
       "    }\n",
       "</style>\n",
       "<table border=\"1\" class=\"dataframe\">\n",
       "  <thead>\n",
       "    <tr style=\"text-align: right;\">\n",
       "      <th></th>\n",
       "      <th>Event.Id</th>\n",
       "      <th>Investigation.Type</th>\n",
       "      <th>Accident.Number</th>\n",
       "      <th>Event.Date</th>\n",
       "      <th>Location</th>\n",
       "      <th>Country</th>\n",
       "      <th>Injury.Severity</th>\n",
       "      <th>Amateur.Built</th>\n",
       "      <th>Number.of.Engines</th>\n",
       "      <th>Engine.Type</th>\n",
       "      <th>Purpose.of.flight</th>\n",
       "      <th>Weather.Condition</th>\n",
       "      <th>Broad.phase.of.flight</th>\n",
       "    </tr>\n",
       "  </thead>\n",
       "  <tbody>\n",
       "    <tr>\n",
       "      <th>0</th>\n",
       "      <td>20001218X45444</td>\n",
       "      <td>Accident</td>\n",
       "      <td>SEA87LA080</td>\n",
       "      <td>1948-10-24</td>\n",
       "      <td>MOOSE CREEK, ID</td>\n",
       "      <td>United States</td>\n",
       "      <td>Fatal(2)</td>\n",
       "      <td>No</td>\n",
       "      <td>1.0</td>\n",
       "      <td>Reciprocating</td>\n",
       "      <td>Personal</td>\n",
       "      <td>UNK</td>\n",
       "      <td>Cruise</td>\n",
       "    </tr>\n",
       "    <tr>\n",
       "      <th>1</th>\n",
       "      <td>20001218X45447</td>\n",
       "      <td>Accident</td>\n",
       "      <td>LAX94LA336</td>\n",
       "      <td>1962-07-19</td>\n",
       "      <td>BRIDGEPORT, CA</td>\n",
       "      <td>United States</td>\n",
       "      <td>Fatal(4)</td>\n",
       "      <td>No</td>\n",
       "      <td>1.0</td>\n",
       "      <td>Reciprocating</td>\n",
       "      <td>Personal</td>\n",
       "      <td>UNK</td>\n",
       "      <td>Unknown</td>\n",
       "    </tr>\n",
       "    <tr>\n",
       "      <th>2</th>\n",
       "      <td>20061025X01555</td>\n",
       "      <td>Accident</td>\n",
       "      <td>NYC07LA005</td>\n",
       "      <td>1974-08-30</td>\n",
       "      <td>Saltville, VA</td>\n",
       "      <td>United States</td>\n",
       "      <td>Fatal(3)</td>\n",
       "      <td>No</td>\n",
       "      <td>1.0</td>\n",
       "      <td>Reciprocating</td>\n",
       "      <td>Personal</td>\n",
       "      <td>IMC</td>\n",
       "      <td>Cruise</td>\n",
       "    </tr>\n",
       "    <tr>\n",
       "      <th>3</th>\n",
       "      <td>20001218X45448</td>\n",
       "      <td>Accident</td>\n",
       "      <td>LAX96LA321</td>\n",
       "      <td>1977-06-19</td>\n",
       "      <td>EUREKA, CA</td>\n",
       "      <td>United States</td>\n",
       "      <td>Fatal(2)</td>\n",
       "      <td>No</td>\n",
       "      <td>1.0</td>\n",
       "      <td>Reciprocating</td>\n",
       "      <td>Personal</td>\n",
       "      <td>IMC</td>\n",
       "      <td>Cruise</td>\n",
       "    </tr>\n",
       "    <tr>\n",
       "      <th>4</th>\n",
       "      <td>20041105X01764</td>\n",
       "      <td>Accident</td>\n",
       "      <td>CHI79FA064</td>\n",
       "      <td>1979-08-02</td>\n",
       "      <td>Canton, OH</td>\n",
       "      <td>United States</td>\n",
       "      <td>Fatal(1)</td>\n",
       "      <td>No</td>\n",
       "      <td>NaN</td>\n",
       "      <td>NaN</td>\n",
       "      <td>Personal</td>\n",
       "      <td>VMC</td>\n",
       "      <td>Approach</td>\n",
       "    </tr>\n",
       "  </tbody>\n",
       "</table>\n",
       "</div>"
      ],
      "text/plain": [
       "         Event.Id Investigation.Type Accident.Number Event.Date  \\\n",
       "0  20001218X45444           Accident      SEA87LA080 1948-10-24   \n",
       "1  20001218X45447           Accident      LAX94LA336 1962-07-19   \n",
       "2  20061025X01555           Accident      NYC07LA005 1974-08-30   \n",
       "3  20001218X45448           Accident      LAX96LA321 1977-06-19   \n",
       "4  20041105X01764           Accident      CHI79FA064 1979-08-02   \n",
       "\n",
       "          Location        Country Injury.Severity Amateur.Built  \\\n",
       "0  MOOSE CREEK, ID  United States        Fatal(2)            No   \n",
       "1   BRIDGEPORT, CA  United States        Fatal(4)            No   \n",
       "2    Saltville, VA  United States        Fatal(3)            No   \n",
       "3       EUREKA, CA  United States        Fatal(2)            No   \n",
       "4       Canton, OH  United States        Fatal(1)            No   \n",
       "\n",
       "   Number.of.Engines    Engine.Type Purpose.of.flight Weather.Condition  \\\n",
       "0                1.0  Reciprocating          Personal               UNK   \n",
       "1                1.0  Reciprocating          Personal               UNK   \n",
       "2                1.0  Reciprocating          Personal               IMC   \n",
       "3                1.0  Reciprocating          Personal               IMC   \n",
       "4                NaN            NaN          Personal               VMC   \n",
       "\n",
       "  Broad.phase.of.flight  \n",
       "0                Cruise  \n",
       "1               Unknown  \n",
       "2                Cruise  \n",
       "3                Cruise  \n",
       "4              Approach  "
      ]
     },
     "execution_count": 15,
     "metadata": {},
     "output_type": "execute_result"
    }
   ],
   "source": [
    "df.head()"
   ]
  },
  {
   "cell_type": "code",
   "execution_count": 16,
   "metadata": {},
   "outputs": [],
   "source": [
    "# separate location \n",
    "df['State']=df['Location'].str.split(pat=',',expand=True)[1]\n",
    "df['Location']=df['Location'].str.split(pat=',',expand=True)[0].str.title()\n"
   ]
  },
  {
   "cell_type": "code",
   "execution_count": 17,
   "metadata": {},
   "outputs": [
    {
     "data": {
      "text/plain": [
       "array(['No', 'Yes', nan, 'Y', 'N'], dtype=object)"
      ]
     },
     "execution_count": 17,
     "metadata": {},
     "output_type": "execute_result"
    }
   ],
   "source": [
    "# change 'Amateur.Built' to yes or no\n",
    "df['Amateur.Built'].unique()"
   ]
  },
  {
   "cell_type": "code",
   "execution_count": 18,
   "metadata": {},
   "outputs": [
    {
     "data": {
      "text/plain": [
       "No     55770\n",
       "N      17005\n",
       "Yes     5564\n",
       "Y       2638\n",
       "Name: Amateur.Built, dtype: int64"
      ]
     },
     "execution_count": 18,
     "metadata": {},
     "output_type": "execute_result"
    }
   ],
   "source": [
    "df['Amateur.Built'].value_counts()"
   ]
  },
  {
   "cell_type": "code",
   "execution_count": 19,
   "metadata": {},
   "outputs": [
    {
     "data": {
      "text/plain": [
       "0        True\n",
       "1        True\n",
       "2        True\n",
       "3        True\n",
       "4        True\n",
       "         ... \n",
       "87275    True\n",
       "87277    True\n",
       "87278    True\n",
       "87279    True\n",
       "87280    True\n",
       "Name: Amateur.Built, Length: 80998, dtype: object"
      ]
     },
     "execution_count": 19,
     "metadata": {},
     "output_type": "execute_result"
    }
   ],
   "source": [
    "df['Amateur.Built'].str.contains('N.?')"
   ]
  },
  {
   "cell_type": "code",
   "execution_count": 20,
   "metadata": {
    "scrolled": true
   },
   "outputs": [
    {
     "data": {
      "text/plain": [
       "8202"
      ]
     },
     "execution_count": 20,
     "metadata": {},
     "output_type": "execute_result"
    }
   ],
   "source": [
    "df['Amateur.Built'].str.contains('Y.?').sum()"
   ]
  },
  {
   "cell_type": "code",
   "execution_count": 21,
   "metadata": {},
   "outputs": [],
   "source": [
    "df.loc[df['Amateur.Built'].str.contains('N.?')==True,'Amateur.Built']='False'\n",
    "df.loc[df['Amateur.Built'].str.contains('Y.?')==True,'Amateur.Built']='True'\n",
    "# use 'replace' method could be a better way"
   ]
  },
  {
   "cell_type": "code",
   "execution_count": 22,
   "metadata": {},
   "outputs": [
    {
     "data": {
      "text/html": [
       "<div>\n",
       "<style scoped>\n",
       "    .dataframe tbody tr th:only-of-type {\n",
       "        vertical-align: middle;\n",
       "    }\n",
       "\n",
       "    .dataframe tbody tr th {\n",
       "        vertical-align: top;\n",
       "    }\n",
       "\n",
       "    .dataframe thead th {\n",
       "        text-align: right;\n",
       "    }\n",
       "</style>\n",
       "<table border=\"1\" class=\"dataframe\">\n",
       "  <thead>\n",
       "    <tr style=\"text-align: right;\">\n",
       "      <th></th>\n",
       "      <th>Event.Id</th>\n",
       "      <th>Investigation.Type</th>\n",
       "      <th>Accident.Number</th>\n",
       "      <th>Event.Date</th>\n",
       "      <th>Location</th>\n",
       "      <th>Country</th>\n",
       "      <th>Injury.Severity</th>\n",
       "      <th>Amateur.Built</th>\n",
       "      <th>Number.of.Engines</th>\n",
       "      <th>Engine.Type</th>\n",
       "      <th>Purpose.of.flight</th>\n",
       "      <th>Weather.Condition</th>\n",
       "      <th>Broad.phase.of.flight</th>\n",
       "      <th>State</th>\n",
       "    </tr>\n",
       "  </thead>\n",
       "  <tbody>\n",
       "    <tr>\n",
       "      <th>0</th>\n",
       "      <td>20001218X45444</td>\n",
       "      <td>Accident</td>\n",
       "      <td>SEA87LA080</td>\n",
       "      <td>1948-10-24</td>\n",
       "      <td>Moose Creek</td>\n",
       "      <td>United States</td>\n",
       "      <td>Fatal(2)</td>\n",
       "      <td>False</td>\n",
       "      <td>1.0</td>\n",
       "      <td>Reciprocating</td>\n",
       "      <td>Personal</td>\n",
       "      <td>UNK</td>\n",
       "      <td>Cruise</td>\n",
       "      <td>ID</td>\n",
       "    </tr>\n",
       "    <tr>\n",
       "      <th>1</th>\n",
       "      <td>20001218X45447</td>\n",
       "      <td>Accident</td>\n",
       "      <td>LAX94LA336</td>\n",
       "      <td>1962-07-19</td>\n",
       "      <td>Bridgeport</td>\n",
       "      <td>United States</td>\n",
       "      <td>Fatal(4)</td>\n",
       "      <td>False</td>\n",
       "      <td>1.0</td>\n",
       "      <td>Reciprocating</td>\n",
       "      <td>Personal</td>\n",
       "      <td>UNK</td>\n",
       "      <td>Unknown</td>\n",
       "      <td>CA</td>\n",
       "    </tr>\n",
       "    <tr>\n",
       "      <th>2</th>\n",
       "      <td>20061025X01555</td>\n",
       "      <td>Accident</td>\n",
       "      <td>NYC07LA005</td>\n",
       "      <td>1974-08-30</td>\n",
       "      <td>Saltville</td>\n",
       "      <td>United States</td>\n",
       "      <td>Fatal(3)</td>\n",
       "      <td>False</td>\n",
       "      <td>1.0</td>\n",
       "      <td>Reciprocating</td>\n",
       "      <td>Personal</td>\n",
       "      <td>IMC</td>\n",
       "      <td>Cruise</td>\n",
       "      <td>VA</td>\n",
       "    </tr>\n",
       "    <tr>\n",
       "      <th>3</th>\n",
       "      <td>20001218X45448</td>\n",
       "      <td>Accident</td>\n",
       "      <td>LAX96LA321</td>\n",
       "      <td>1977-06-19</td>\n",
       "      <td>Eureka</td>\n",
       "      <td>United States</td>\n",
       "      <td>Fatal(2)</td>\n",
       "      <td>False</td>\n",
       "      <td>1.0</td>\n",
       "      <td>Reciprocating</td>\n",
       "      <td>Personal</td>\n",
       "      <td>IMC</td>\n",
       "      <td>Cruise</td>\n",
       "      <td>CA</td>\n",
       "    </tr>\n",
       "    <tr>\n",
       "      <th>4</th>\n",
       "      <td>20041105X01764</td>\n",
       "      <td>Accident</td>\n",
       "      <td>CHI79FA064</td>\n",
       "      <td>1979-08-02</td>\n",
       "      <td>Canton</td>\n",
       "      <td>United States</td>\n",
       "      <td>Fatal(1)</td>\n",
       "      <td>False</td>\n",
       "      <td>NaN</td>\n",
       "      <td>NaN</td>\n",
       "      <td>Personal</td>\n",
       "      <td>VMC</td>\n",
       "      <td>Approach</td>\n",
       "      <td>OH</td>\n",
       "    </tr>\n",
       "  </tbody>\n",
       "</table>\n",
       "</div>"
      ],
      "text/plain": [
       "         Event.Id Investigation.Type Accident.Number Event.Date     Location  \\\n",
       "0  20001218X45444           Accident      SEA87LA080 1948-10-24  Moose Creek   \n",
       "1  20001218X45447           Accident      LAX94LA336 1962-07-19   Bridgeport   \n",
       "2  20061025X01555           Accident      NYC07LA005 1974-08-30    Saltville   \n",
       "3  20001218X45448           Accident      LAX96LA321 1977-06-19       Eureka   \n",
       "4  20041105X01764           Accident      CHI79FA064 1979-08-02       Canton   \n",
       "\n",
       "         Country Injury.Severity Amateur.Built  Number.of.Engines  \\\n",
       "0  United States        Fatal(2)         False                1.0   \n",
       "1  United States        Fatal(4)         False                1.0   \n",
       "2  United States        Fatal(3)         False                1.0   \n",
       "3  United States        Fatal(2)         False                1.0   \n",
       "4  United States        Fatal(1)         False                NaN   \n",
       "\n",
       "     Engine.Type Purpose.of.flight Weather.Condition Broad.phase.of.flight  \\\n",
       "0  Reciprocating          Personal               UNK                Cruise   \n",
       "1  Reciprocating          Personal               UNK               Unknown   \n",
       "2  Reciprocating          Personal               IMC                Cruise   \n",
       "3  Reciprocating          Personal               IMC                Cruise   \n",
       "4            NaN          Personal               VMC              Approach   \n",
       "\n",
       "  State  \n",
       "0    ID  \n",
       "1    CA  \n",
       "2    VA  \n",
       "3    CA  \n",
       "4    OH  "
      ]
     },
     "execution_count": 22,
     "metadata": {},
     "output_type": "execute_result"
    }
   ],
   "source": [
    "df.head()\n"
   ]
  },
  {
   "cell_type": "code",
   "execution_count": 23,
   "metadata": {},
   "outputs": [
    {
     "data": {
      "text/plain": [
       "array(['Fatal(2)', 'Fatal(4)', 'Fatal(3)', 'Fatal(1)', 'Non-Fatal',\n",
       "       'Incident', 'Fatal(8)', 'Fatal(78)', 'Fatal(7)', 'Fatal(6)',\n",
       "       'Fatal(5)', 'Fatal(153)', 'Fatal(12)', 'Fatal(14)', 'Fatal(23)',\n",
       "       'Fatal(10)', 'Fatal(11)', 'Fatal(17)', 'Fatal(13)', 'Fatal(70)',\n",
       "       'Fatal(9)', 'Unavailable', 'Fatal(135)', 'Fatal(31)', 'Fatal(25)',\n",
       "       'Fatal(82)', 'Fatal(156)', 'Fatal(28)', 'Fatal(18)', 'Fatal(43)',\n",
       "       'Fatal(111)', 'Fatal(20)', 'Fatal(73)', 'Fatal(34)', 'Fatal(27)',\n",
       "       'Fatal(16)', 'Fatal(37)', 'Fatal(132)', 'Fatal(68)', 'Fatal(15)',\n",
       "       'Fatal(110)', 'Fatal(230)', 'Fatal(29)', 'Fatal(228)', 'Fatal(88)',\n",
       "       'Fatal(19)', 'Fatal(44)', 'Fatal(64)', 'Fatal(65)', 'Fatal(92)',\n",
       "       'Fatal(265)', 'Fatal(21)', 'Fatal(49)', 'Fatal', nan], dtype=object)"
      ]
     },
     "execution_count": 23,
     "metadata": {},
     "output_type": "execute_result"
    }
   ],
   "source": [
    "# modify 'Injury.Severity'\n",
    "df['Injury.Severity'].unique()"
   ]
  },
  {
   "cell_type": "code",
   "execution_count": 24,
   "metadata": {},
   "outputs": [],
   "source": [
    "df['Injury.Severity']=df['Injury.Severity'].str.split(pat='(').str[0]"
   ]
  },
  {
   "cell_type": "code",
   "execution_count": 25,
   "metadata": {},
   "outputs": [
    {
     "data": {
      "text/html": [
       "<div>\n",
       "<style scoped>\n",
       "    .dataframe tbody tr th:only-of-type {\n",
       "        vertical-align: middle;\n",
       "    }\n",
       "\n",
       "    .dataframe tbody tr th {\n",
       "        vertical-align: top;\n",
       "    }\n",
       "\n",
       "    .dataframe thead th {\n",
       "        text-align: right;\n",
       "    }\n",
       "</style>\n",
       "<table border=\"1\" class=\"dataframe\">\n",
       "  <thead>\n",
       "    <tr style=\"text-align: right;\">\n",
       "      <th></th>\n",
       "      <th>Event.Id</th>\n",
       "      <th>Investigation.Type</th>\n",
       "      <th>Accident.Number</th>\n",
       "      <th>Event.Date</th>\n",
       "      <th>Location</th>\n",
       "      <th>Country</th>\n",
       "      <th>Injury.Severity</th>\n",
       "      <th>Amateur.Built</th>\n",
       "      <th>Number.of.Engines</th>\n",
       "      <th>Engine.Type</th>\n",
       "      <th>Purpose.of.flight</th>\n",
       "      <th>Weather.Condition</th>\n",
       "      <th>Broad.phase.of.flight</th>\n",
       "      <th>State</th>\n",
       "    </tr>\n",
       "  </thead>\n",
       "  <tbody>\n",
       "    <tr>\n",
       "      <th>0</th>\n",
       "      <td>20001218X45444</td>\n",
       "      <td>Accident</td>\n",
       "      <td>SEA87LA080</td>\n",
       "      <td>1948-10-24</td>\n",
       "      <td>Moose Creek</td>\n",
       "      <td>United States</td>\n",
       "      <td>Fatal</td>\n",
       "      <td>False</td>\n",
       "      <td>1.0</td>\n",
       "      <td>Reciprocating</td>\n",
       "      <td>Personal</td>\n",
       "      <td>UNK</td>\n",
       "      <td>Cruise</td>\n",
       "      <td>ID</td>\n",
       "    </tr>\n",
       "    <tr>\n",
       "      <th>1</th>\n",
       "      <td>20001218X45447</td>\n",
       "      <td>Accident</td>\n",
       "      <td>LAX94LA336</td>\n",
       "      <td>1962-07-19</td>\n",
       "      <td>Bridgeport</td>\n",
       "      <td>United States</td>\n",
       "      <td>Fatal</td>\n",
       "      <td>False</td>\n",
       "      <td>1.0</td>\n",
       "      <td>Reciprocating</td>\n",
       "      <td>Personal</td>\n",
       "      <td>UNK</td>\n",
       "      <td>Unknown</td>\n",
       "      <td>CA</td>\n",
       "    </tr>\n",
       "    <tr>\n",
       "      <th>2</th>\n",
       "      <td>20061025X01555</td>\n",
       "      <td>Accident</td>\n",
       "      <td>NYC07LA005</td>\n",
       "      <td>1974-08-30</td>\n",
       "      <td>Saltville</td>\n",
       "      <td>United States</td>\n",
       "      <td>Fatal</td>\n",
       "      <td>False</td>\n",
       "      <td>1.0</td>\n",
       "      <td>Reciprocating</td>\n",
       "      <td>Personal</td>\n",
       "      <td>IMC</td>\n",
       "      <td>Cruise</td>\n",
       "      <td>VA</td>\n",
       "    </tr>\n",
       "    <tr>\n",
       "      <th>3</th>\n",
       "      <td>20001218X45448</td>\n",
       "      <td>Accident</td>\n",
       "      <td>LAX96LA321</td>\n",
       "      <td>1977-06-19</td>\n",
       "      <td>Eureka</td>\n",
       "      <td>United States</td>\n",
       "      <td>Fatal</td>\n",
       "      <td>False</td>\n",
       "      <td>1.0</td>\n",
       "      <td>Reciprocating</td>\n",
       "      <td>Personal</td>\n",
       "      <td>IMC</td>\n",
       "      <td>Cruise</td>\n",
       "      <td>CA</td>\n",
       "    </tr>\n",
       "    <tr>\n",
       "      <th>4</th>\n",
       "      <td>20041105X01764</td>\n",
       "      <td>Accident</td>\n",
       "      <td>CHI79FA064</td>\n",
       "      <td>1979-08-02</td>\n",
       "      <td>Canton</td>\n",
       "      <td>United States</td>\n",
       "      <td>Fatal</td>\n",
       "      <td>False</td>\n",
       "      <td>NaN</td>\n",
       "      <td>NaN</td>\n",
       "      <td>Personal</td>\n",
       "      <td>VMC</td>\n",
       "      <td>Approach</td>\n",
       "      <td>OH</td>\n",
       "    </tr>\n",
       "  </tbody>\n",
       "</table>\n",
       "</div>"
      ],
      "text/plain": [
       "         Event.Id Investigation.Type Accident.Number Event.Date     Location  \\\n",
       "0  20001218X45444           Accident      SEA87LA080 1948-10-24  Moose Creek   \n",
       "1  20001218X45447           Accident      LAX94LA336 1962-07-19   Bridgeport   \n",
       "2  20061025X01555           Accident      NYC07LA005 1974-08-30    Saltville   \n",
       "3  20001218X45448           Accident      LAX96LA321 1977-06-19       Eureka   \n",
       "4  20041105X01764           Accident      CHI79FA064 1979-08-02       Canton   \n",
       "\n",
       "         Country Injury.Severity Amateur.Built  Number.of.Engines  \\\n",
       "0  United States           Fatal         False                1.0   \n",
       "1  United States           Fatal         False                1.0   \n",
       "2  United States           Fatal         False                1.0   \n",
       "3  United States           Fatal         False                1.0   \n",
       "4  United States           Fatal         False                NaN   \n",
       "\n",
       "     Engine.Type Purpose.of.flight Weather.Condition Broad.phase.of.flight  \\\n",
       "0  Reciprocating          Personal               UNK                Cruise   \n",
       "1  Reciprocating          Personal               UNK               Unknown   \n",
       "2  Reciprocating          Personal               IMC                Cruise   \n",
       "3  Reciprocating          Personal               IMC                Cruise   \n",
       "4            NaN          Personal               VMC              Approach   \n",
       "\n",
       "  State  \n",
       "0    ID  \n",
       "1    CA  \n",
       "2    VA  \n",
       "3    CA  \n",
       "4    OH  "
      ]
     },
     "execution_count": 25,
     "metadata": {},
     "output_type": "execute_result"
    }
   ],
   "source": [
    "df.head()"
   ]
  },
  {
   "cell_type": "code",
   "execution_count": 26,
   "metadata": {},
   "outputs": [],
   "source": [
    "# parse date to year, month, and day\n",
    "df['Year']=df['Event.Date'].dt.year"
   ]
  },
  {
   "cell_type": "code",
   "execution_count": 27,
   "metadata": {},
   "outputs": [],
   "source": [
    "df['Month']=df['Event.Date'].dt.month_name().str[0:3]"
   ]
  },
  {
   "cell_type": "code",
   "execution_count": 28,
   "metadata": {},
   "outputs": [],
   "source": [
    "df['Day']=df['Event.Date'].dt.day_name()"
   ]
  },
  {
   "cell_type": "code",
   "execution_count": 29,
   "metadata": {},
   "outputs": [
    {
     "data": {
      "text/plain": [
       "array(['UNK', 'IMC', 'VMC', nan, 'Unk'], dtype=object)"
      ]
     },
     "execution_count": 29,
     "metadata": {},
     "output_type": "execute_result"
    }
   ],
   "source": [
    "# modify 'Weather.Condition' change 'UNK' to 'Unknown'\n",
    "df['Weather.Condition'].unique()"
   ]
  },
  {
   "cell_type": "code",
   "execution_count": 30,
   "metadata": {},
   "outputs": [],
   "source": [
    "df['Weather.Condition'].replace(regex=r'U.{2}',value='Unknown',inplace=True)"
   ]
  },
  {
   "cell_type": "code",
   "execution_count": 31,
   "metadata": {},
   "outputs": [],
   "source": [
    "df=df.convert_dtypes()"
   ]
  },
  {
   "cell_type": "code",
   "execution_count": 32,
   "metadata": {},
   "outputs": [
    {
     "data": {
      "text/html": [
       "<div>\n",
       "<style scoped>\n",
       "    .dataframe tbody tr th:only-of-type {\n",
       "        vertical-align: middle;\n",
       "    }\n",
       "\n",
       "    .dataframe tbody tr th {\n",
       "        vertical-align: top;\n",
       "    }\n",
       "\n",
       "    .dataframe thead th {\n",
       "        text-align: right;\n",
       "    }\n",
       "</style>\n",
       "<table border=\"1\" class=\"dataframe\">\n",
       "  <thead>\n",
       "    <tr style=\"text-align: right;\">\n",
       "      <th></th>\n",
       "      <th>Event.Id</th>\n",
       "      <th>Investigation.Type</th>\n",
       "      <th>Accident.Number</th>\n",
       "      <th>Event.Date</th>\n",
       "      <th>Location</th>\n",
       "      <th>Country</th>\n",
       "      <th>Injury.Severity</th>\n",
       "      <th>Amateur.Built</th>\n",
       "      <th>Number.of.Engines</th>\n",
       "      <th>Engine.Type</th>\n",
       "      <th>Purpose.of.flight</th>\n",
       "      <th>Weather.Condition</th>\n",
       "      <th>Broad.phase.of.flight</th>\n",
       "      <th>State</th>\n",
       "      <th>Year</th>\n",
       "      <th>Month</th>\n",
       "      <th>Day</th>\n",
       "    </tr>\n",
       "  </thead>\n",
       "  <tbody>\n",
       "    <tr>\n",
       "      <th>0</th>\n",
       "      <td>20001218X45444</td>\n",
       "      <td>Accident</td>\n",
       "      <td>SEA87LA080</td>\n",
       "      <td>1948-10-24</td>\n",
       "      <td>Moose Creek</td>\n",
       "      <td>United States</td>\n",
       "      <td>Fatal</td>\n",
       "      <td>False</td>\n",
       "      <td>1</td>\n",
       "      <td>Reciprocating</td>\n",
       "      <td>Personal</td>\n",
       "      <td>Unknown</td>\n",
       "      <td>Cruise</td>\n",
       "      <td>ID</td>\n",
       "      <td>1948</td>\n",
       "      <td>Oct</td>\n",
       "      <td>Sunday</td>\n",
       "    </tr>\n",
       "    <tr>\n",
       "      <th>1</th>\n",
       "      <td>20001218X45447</td>\n",
       "      <td>Accident</td>\n",
       "      <td>LAX94LA336</td>\n",
       "      <td>1962-07-19</td>\n",
       "      <td>Bridgeport</td>\n",
       "      <td>United States</td>\n",
       "      <td>Fatal</td>\n",
       "      <td>False</td>\n",
       "      <td>1</td>\n",
       "      <td>Reciprocating</td>\n",
       "      <td>Personal</td>\n",
       "      <td>Unknown</td>\n",
       "      <td>Unknown</td>\n",
       "      <td>CA</td>\n",
       "      <td>1962</td>\n",
       "      <td>Jul</td>\n",
       "      <td>Thursday</td>\n",
       "    </tr>\n",
       "    <tr>\n",
       "      <th>2</th>\n",
       "      <td>20061025X01555</td>\n",
       "      <td>Accident</td>\n",
       "      <td>NYC07LA005</td>\n",
       "      <td>1974-08-30</td>\n",
       "      <td>Saltville</td>\n",
       "      <td>United States</td>\n",
       "      <td>Fatal</td>\n",
       "      <td>False</td>\n",
       "      <td>1</td>\n",
       "      <td>Reciprocating</td>\n",
       "      <td>Personal</td>\n",
       "      <td>IMC</td>\n",
       "      <td>Cruise</td>\n",
       "      <td>VA</td>\n",
       "      <td>1974</td>\n",
       "      <td>Aug</td>\n",
       "      <td>Friday</td>\n",
       "    </tr>\n",
       "    <tr>\n",
       "      <th>3</th>\n",
       "      <td>20001218X45448</td>\n",
       "      <td>Accident</td>\n",
       "      <td>LAX96LA321</td>\n",
       "      <td>1977-06-19</td>\n",
       "      <td>Eureka</td>\n",
       "      <td>United States</td>\n",
       "      <td>Fatal</td>\n",
       "      <td>False</td>\n",
       "      <td>1</td>\n",
       "      <td>Reciprocating</td>\n",
       "      <td>Personal</td>\n",
       "      <td>IMC</td>\n",
       "      <td>Cruise</td>\n",
       "      <td>CA</td>\n",
       "      <td>1977</td>\n",
       "      <td>Jun</td>\n",
       "      <td>Sunday</td>\n",
       "    </tr>\n",
       "    <tr>\n",
       "      <th>4</th>\n",
       "      <td>20041105X01764</td>\n",
       "      <td>Accident</td>\n",
       "      <td>CHI79FA064</td>\n",
       "      <td>1979-08-02</td>\n",
       "      <td>Canton</td>\n",
       "      <td>United States</td>\n",
       "      <td>Fatal</td>\n",
       "      <td>False</td>\n",
       "      <td>&lt;NA&gt;</td>\n",
       "      <td>&lt;NA&gt;</td>\n",
       "      <td>Personal</td>\n",
       "      <td>VMC</td>\n",
       "      <td>Approach</td>\n",
       "      <td>OH</td>\n",
       "      <td>1979</td>\n",
       "      <td>Aug</td>\n",
       "      <td>Thursday</td>\n",
       "    </tr>\n",
       "  </tbody>\n",
       "</table>\n",
       "</div>"
      ],
      "text/plain": [
       "         Event.Id Investigation.Type Accident.Number Event.Date     Location  \\\n",
       "0  20001218X45444           Accident      SEA87LA080 1948-10-24  Moose Creek   \n",
       "1  20001218X45447           Accident      LAX94LA336 1962-07-19   Bridgeport   \n",
       "2  20061025X01555           Accident      NYC07LA005 1974-08-30    Saltville   \n",
       "3  20001218X45448           Accident      LAX96LA321 1977-06-19       Eureka   \n",
       "4  20041105X01764           Accident      CHI79FA064 1979-08-02       Canton   \n",
       "\n",
       "         Country Injury.Severity Amateur.Built  Number.of.Engines  \\\n",
       "0  United States           Fatal         False                  1   \n",
       "1  United States           Fatal         False                  1   \n",
       "2  United States           Fatal         False                  1   \n",
       "3  United States           Fatal         False                  1   \n",
       "4  United States           Fatal         False               <NA>   \n",
       "\n",
       "     Engine.Type Purpose.of.flight Weather.Condition Broad.phase.of.flight  \\\n",
       "0  Reciprocating          Personal           Unknown                Cruise   \n",
       "1  Reciprocating          Personal           Unknown               Unknown   \n",
       "2  Reciprocating          Personal               IMC                Cruise   \n",
       "3  Reciprocating          Personal               IMC                Cruise   \n",
       "4           <NA>          Personal               VMC              Approach   \n",
       "\n",
       "  State  Year Month       Day  \n",
       "0    ID  1948   Oct    Sunday  \n",
       "1    CA  1962   Jul  Thursday  \n",
       "2    VA  1974   Aug    Friday  \n",
       "3    CA  1977   Jun    Sunday  \n",
       "4    OH  1979   Aug  Thursday  "
      ]
     },
     "execution_count": 32,
     "metadata": {},
     "output_type": "execute_result"
    }
   ],
   "source": [
    "df.head()"
   ]
  },
  {
   "cell_type": "code",
   "execution_count": 181,
   "metadata": {},
   "outputs": [
    {
     "data": {
      "text/plain": [
       "<StringArray>\n",
       "[     'Cruise',     'Unknown',    'Approach',       'Climb',     'Takeoff',\n",
       "     'Landing',        'Taxi',     'Descent', 'Maneuvering',    'Standing',\n",
       "   'Go-around',       'Other',          <NA>]\n",
       "Length: 13, dtype: string"
      ]
     },
     "execution_count": 181,
     "metadata": {},
     "output_type": "execute_result"
    }
   ],
   "source": [
    "df['Broad.phase.of.flight'].unique()"
   ]
  },
  {
   "cell_type": "markdown",
   "metadata": {},
   "source": [
    "# Data Analysis"
   ]
  },
  {
   "cell_type": "markdown",
   "metadata": {},
   "source": [
    "## Observation 1: \n",
    "The number of accidents including Fatal and Non-fatal accidents decreases with year, while the number of incident keeps almost unchanged during 1982 and 2007 and is reduced to 0 afterwards. Moreover, non-fatal accidents take major proportion in all of incidents and accidents, which is over 80%, while the fatal rate is below 20%."
   ]
  },
  {
   "cell_type": "code",
   "execution_count": 34,
   "metadata": {
    "scrolled": true
   },
   "outputs": [],
   "source": [
    "# # Number of total accidents+incidents per year\n",
    "# df_MumperYear=df.groupby(by='Year').count()['Event.Id']\n",
    "# # Number of Fatal accidents per year\n",
    "# df_FatalperYear=df[df['Injury.Severity']=='Fatal'].groupby(by='Year').count()['Event.Id']\n",
    "# # Number of non-Fatal accidents per year\n",
    "# df_NonFatalperYear=df[df['Injury.Severity']=='Non-Fatal'].groupby(by='Year').count()['Event.Id']\n",
    "# # Number of Fatal accidents per year\n",
    "# df_IncidentperYear=df[df['Injury.Severity']=='Incident'].groupby(by='Year').count()['Event.Id']\n",
    "\n",
    "# # plot\n",
    "# plt.figure(figsize=(10,6))\n",
    "# plot=sns.lineplot(data=df_MumperYear, marker='v')\n",
    "# plot=sns.lineplot(data=df_FatalperYear, marker='*')\n",
    "# plot=sns.lineplot(data=df_NonFatalperYear, marker='s')\n",
    "# plot=sns.lineplot(data=df_IncidentperYear, marker='o')\n",
    "# plt.xlabel('Year')\n",
    "# plt.title('Number of aviation accidents/incidents per year')\n",
    "# #plot.set(xlabel='Year', title = 'Number of aviation accidents/incidents per year')\n",
    "# plt.legend(['Total','Accident: Fatal','Accident: Non-Fatal','Incident'])\n",
    "# plt.xlim([1982,2021])"
   ]
  },
  {
   "cell_type": "code",
   "execution_count": 35,
   "metadata": {},
   "outputs": [
    {
     "data": {
      "text/plain": [
       "(1982.0, 2021.0)"
      ]
     },
     "execution_count": 35,
     "metadata": {},
     "output_type": "execute_result"
    },
    {
     "data": {
      "image/png": "[encoded data removed]",
      "text/plain": [
       "<Figure size 1152x504 with 2 Axes>"
      ]
     },
     "metadata": {
      "needs_background": "light"
     },
     "output_type": "display_data"
    }
   ],
   "source": [
    "## plot number of accidents+incidents\n",
    "# Number of total accidents+incidents per year\n",
    "df_MumperYear=df.groupby(by='Year').count()['Event.Id']\n",
    "# Number of Fatal accidents per year\n",
    "df_FatalperYear=df[df['Injury.Severity']=='Fatal'].groupby(by='Year').count()['Event.Id']\n",
    "# Number of non-Fatal accidents per year\n",
    "df_NonFatalperYear=df[df['Injury.Severity']=='Non-Fatal'].groupby(by='Year').count()['Event.Id']\n",
    "# Number of Fatal accidents per year\n",
    "df_IncidentperYear=df[df['Injury.Severity']=='Incident'].groupby(by='Year').count()['Event.Id']\n",
    "\n",
    "fig, axs=plt.subplots(1,2, figsize=(16,7))\n",
    "sns.lineplot(ax=axs[0],data=df_MumperYear, marker='v')\n",
    "sns.lineplot(ax=axs[0],data=df_FatalperYear, marker='*')\n",
    "sns.lineplot(ax=axs[0],data=df_NonFatalperYear, marker='s')\n",
    "sns.lineplot(ax=axs[0],data=df_IncidentperYear, marker='o')\n",
    "axs[0].set_xlabel('Year')\n",
    "axs[0].set_title('Number of aviation accidents/incidents per year')\n",
    "#plot.set(xlabel='Year', title = 'Number of aviation accidents/incidents per year')\n",
    "axs[0].legend(['Total','Accident: Fatal','Accident: Non-Fatal','Incident'])\n",
    "axs[0].set_xlim([1982,2021])\n",
    "\n",
    "##  plot percentages of accidents+incidents\n",
    "# Number of total accidents+incidents per year (remove nan and unavailable values first)\n",
    "df_MumperYear=df[~((df['Injury.Severity'].isna())|(df['Injury.Severity']=='Unavailable'))].groupby(by='Year').count()['Event.Id']\n",
    "# Number of Fatal accidents per year\n",
    "df_FatalperYear=df[df['Injury.Severity']=='Fatal'].groupby(by='Year').count()['Event.Id']/df_MumperYear\n",
    "# Number of non-Fatal accidents per year\n",
    "df_NonFatalperYear=df[df['Injury.Severity']=='Non-Fatal'].groupby(by='Year').count()['Event.Id']/df_MumperYear\n",
    "# Number of Fatal accidents per year\n",
    "df_IncidentperYear=df[df['Injury.Severity']=='Incident'].groupby(by='Year').count()['Event.Id']/df_MumperYear\n",
    "\n",
    "#sns.lineplot(ax=axs[1],data=df_MumperYear./len(df), marker='v')\n",
    "sns.lineplot(ax=axs[1],data=df_FatalperYear, marker='*')\n",
    "sns.lineplot(ax=axs[1],data=df_NonFatalperYear, marker='s')\n",
    "sns.lineplot(ax=axs[1],data=df_IncidentperYear, marker='o')\n",
    "axs[1].set_xlabel('Year')\n",
    "axs[1].set_title('Percentage')\n",
    "#plot.set(xlabel='Year', title = 'Percentage')\n",
    "axs[1].legend(['Accident: Fatal','Accident: Non-Fatal','Incident'])\n",
    "axs[1].set_xlim([1982,2021])"
   ]
  },
  {
   "cell_type": "code",
   "execution_count": 231,
   "metadata": {},
   "outputs": [],
   "source": [
    "# S=df[~((df['Injury.Severity'].isna())|(df['Injury.Severity']=='Unavailable'))].groupby(by='Year')['Injury.Severity'].value_counts(normalize=True).unstack('Injury.Severity').fillna(0)\n",
    "# plt.plot(S.index, S.Fatal,'*-',S.index, S['Non-Fatal'],'s-')\n",
    "# plt.xlim([1982,2021])"
   ]
  },
  {
   "cell_type": "markdown",
   "metadata": {},
   "source": [
    "## Observation 2: \n",
    "In the last 30 years, CA, FL, and TX are the top 3 states that had the most fatal accidents, which are all over 1000."
   ]
  },
  {
   "cell_type": "code",
   "execution_count": 285,
   "metadata": {
    "scrolled": true
   },
   "outputs": [
    {
     "data": {
      "text/plain": [
       "Text(0.5, 1.0, 'Number of Fatal Accidents over States (Top 10)')"
      ]
     },
     "execution_count": 285,
     "metadata": {},
     "output_type": "execute_result"
    },
    {
     "data": {
      "image/png": "[encoded data removed]",
      "text/plain": [
       "<Figure size 720x288 with 1 Axes>"
      ]
     },
     "metadata": {},
     "output_type": "display_data"
    }
   ],
   "source": [
    "## Fatal accidents over top 10 states\n",
    "\n",
    "# Number of Fatal accidents per state\n",
    "df_FatalperState=df[df['Injury.Severity']=='Fatal'].groupby(by='State').count()['Event.Id'].sort_values(ascending=False).head(10)\n",
    "\n",
    "# plot\n",
    "plt.figure(figsize=(10,4))\n",
    "ax=sns.barplot(x=df_FatalperState.index,y=df_FatalperState.values)  #\n",
    "#ax=df_FatalperState.plot.bar(rot=1)\n",
    "#plt.bar(df_FatalperState.index,df_FatalperState.values)\n",
    "ax.bar_label(ax.containers[0])\n",
    "plt.ylabel('Number of Fatal Accidents')\n",
    "plt.title('Number of Fatal Accidents over States (Top 10)')\n"
   ]
  },
  {
   "cell_type": "markdown",
   "metadata": {},
   "source": [
    "## Observation 3: \n",
    "It is observed that more fatal accidents happened in the 3rd quarter of a year and Flying on weekends is more likely to have fatal accidents than other days. The main reason is that more flights are introduced on weekend and in months like July, therefore more accidents occured. More importantly, the proportion of 'Personal' flights is increased, whose fatal rate (20.3%) is higher than the average (Average is below 20%)."
   ]
  },
  {
   "cell_type": "code",
   "execution_count": 276,
   "metadata": {},
   "outputs": [
    {
     "data": {
      "text/plain": [
       "Text(0.5, 1.0, 'Number of Fatal Accidents over Days')"
      ]
     },
     "execution_count": 276,
     "metadata": {},
     "output_type": "execute_result"
    },
    {
     "data": {
      "image/png": "[encoded data removed]",
      "text/plain": [
       "<Figure size 1008x288 with 2 Axes>"
      ]
     },
     "metadata": {},
     "output_type": "display_data"
    }
   ],
   "source": [
    "## Fatal accidents over months and days\n",
    "\n",
    "df_FataloverMonth=df[df['Injury.Severity']=='Fatal'].groupby('Month').count()['Injury.Severity'].sort_values(ascending=False)\n",
    "df_FataloverDay=df[df['Injury.Severity']=='Fatal'].groupby('Day').count()['Injury.Severity'].sort_values(ascending=False)\n",
    "\n",
    "# plot\n",
    "fig, axs =plt.subplots(1,2, figsize=(14,4))\n",
    "\n",
    "p1=sns.barplot(ax=axs[0], x=df_FataloverMonth.index, y=df_FataloverMonth.values)\n",
    "axs[0].bar_label(axs[0].containers[0])\n",
    "#axs[0].bar_label(p1.containers[0])\n",
    "axs[0].set_ylabel('Number of Fatal Accidents')\n",
    "axs[0].set_title('Number of Fatal Accidents over Months')\n",
    "\n",
    "sns.barplot(ax=axs[1], x=df_FataloverDay.index, y=df_FataloverDay.values)\n",
    "axs[1].bar_label(axs[1].containers[0])\n",
    "axs[1].set_ylabel('Number of Fatal Accidents')\n",
    "axs[1].set_title('Number of Fatal Accidents over Days')"
   ]
  },
  {
   "cell_type": "code",
   "execution_count": 90,
   "metadata": {},
   "outputs": [
    {
     "data": {
      "text/plain": [
       "Purpose.of.flight\n",
       "Personal         10475\n",
       "Instructional     1829\n",
       "Unknown            852\n",
       "Name: Day, dtype: int64"
      ]
     },
     "execution_count": 90,
     "metadata": {},
     "output_type": "execute_result"
    }
   ],
   "source": [
    "# check the top 3 'Purpose.of.flight' on Sat\n",
    "df[df['Day']=='Saturday'].groupby('Purpose.of.flight').count()['Day'].sort_values(ascending=False).head(3)"
   ]
  },
  {
   "cell_type": "code",
   "execution_count": 83,
   "metadata": {},
   "outputs": [
    {
     "data": {
      "text/plain": [
       "Purpose.of.flight\n",
       "Personal              5872\n",
       "Instructional         1089\n",
       "Aerial Application    1011\n",
       "Name: Day, dtype: int64"
      ]
     },
     "execution_count": 83,
     "metadata": {},
     "output_type": "execute_result"
    }
   ],
   "source": [
    "# check the top 3 'Purpose.of.flight' in Jul\n",
    "df[df['Month']=='Jul'].groupby('Purpose.of.flight').count()['Day'].sort_values(ascending=False).head(3)"
   ]
  },
  {
   "cell_type": "code",
   "execution_count": 89,
   "metadata": {
    "scrolled": true
   },
   "outputs": [
    {
     "data": {
      "text/plain": [
       "Injury.Severity\n",
       "Non-Fatal    0.793080\n",
       "Fatal        0.203171\n",
       "Incident     0.003749\n",
       "Name: Day, dtype: float64"
      ]
     },
     "execution_count": 89,
     "metadata": {},
     "output_type": "execute_result"
    }
   ],
   "source": [
    "# check Fatal rate when 'Purpose.of.flight' is Personal\n",
    "Total_acc=df[(df['Purpose.of.flight']=='Personal')&~((df['Injury.Severity'].isna())|(df['Injury.Severity']=='Unavailable'))]['Injury.Severity'].count()\n",
    "df[(df['Purpose.of.flight']=='Personal')&~((df['Injury.Severity'].isna())|(df['Injury.Severity']=='Unavailable'))].groupby('Injury.Severity').count()['Day'].sort_values(ascending=False)/Total_acc"
   ]
  },
  {
   "cell_type": "markdown",
   "metadata": {},
   "source": [
    "## Observation 4:\n",
    "We see that non-amateur-built planes are significantly safer than the amateur-built ones. When the plane is built by amateur, its fatality rate in accidents is as high as 27.2%, compared to 17.3% by non-amateur"
   ]
  },
  {
   "cell_type": "code",
   "execution_count": 108,
   "metadata": {},
   "outputs": [],
   "source": [
    "# df[(df['Amateur.Built'].notna())&(~((df['Injury.Severity'].isna())|(df['Injury.Severity']=='Unavailable')))].count()['Injury.Severity']"
   ]
  },
  {
   "cell_type": "code",
   "execution_count": 110,
   "metadata": {},
   "outputs": [
    {
     "data": {
      "text/plain": [
       "0.17320526757578678"
      ]
     },
     "execution_count": 110,
     "metadata": {},
     "output_type": "execute_result"
    }
   ],
   "source": [
    "## Fatality accidents'relations with Amateur.Built\n",
    "# Fatality rate when Non Amateur built\n",
    "Total_FatalinNonAmateur=df[(df['Amateur.Built']=='False')&~((df['Injury.Severity'].isna())|(df['Injury.Severity']=='Unavailable'))]['Injury.Severity'].count()\n",
    "FatalRate_inNonAmateur=df[(df['Amateur.Built']=='False')&(df['Injury.Severity']=='Fatal')]['Injury.Severity'].count()/Total_FatalinNonAmateur\n",
    "FatalRate_inNonAmateur"
   ]
  },
  {
   "cell_type": "code",
   "execution_count": 112,
   "metadata": {},
   "outputs": [
    {
     "data": {
      "text/plain": [
       "0.27155224972564324"
      ]
     },
     "execution_count": 112,
     "metadata": {},
     "output_type": "execute_result"
    }
   ],
   "source": [
    "# Fatality rate when Amateur built\n",
    "Total_FatalinAmateur=df[(df['Amateur.Built']=='True')&~((df['Injury.Severity'].isna())|(df['Injury.Severity']=='Unavailable'))]['Injury.Severity'].count()\n",
    "FatalRate_inAmateur=df[(df['Amateur.Built']=='True')&(df['Injury.Severity']=='Fatal')]['Injury.Severity'].count()/Total_FatalinAmateur\n",
    "FatalRate_inAmateur"
   ]
  },
  {
   "cell_type": "code",
   "execution_count": 295,
   "metadata": {},
   "outputs": [],
   "source": [
    "# use pivot_table method\n",
    "# df[(df['Amateur.Built'].notna())&~((df['Injury.Severity'].isna())|(df['Injury.Severity']=='Unavailable'))].pivot_table(index='Amateur.Built', columns='Injury.Severity', values='Event.Id',aggfunc='count')"
   ]
  },
  {
   "cell_type": "code",
   "execution_count": 273,
   "metadata": {
    "scrolled": true
   },
   "outputs": [
    {
     "data": {
      "image/png": "[encoded data removed]",
      "text/plain": [
       "<Figure size 864x360 with 1 Axes>"
      ]
     },
     "metadata": {},
     "output_type": "display_data"
    }
   ],
   "source": [
    "# Plot \n",
    "Rate_built=df[(df['Amateur.Built'].notna())&~((df['Injury.Severity'].isna())|(df['Injury.Severity']=='Unavailable'))].groupby('Amateur.Built')['Injury.Severity'].value_counts(normalize = True).unstack('Injury.Severity')\n",
    "\n",
    "#Rate_Amateur=df[(df['Amateur.Built']=='True')&~((df['Injury.Severity'].isna())|(df['Injury.Severity']=='Unavailable'))]['Injury.Severity'].value_counts(normalize=True)\n",
    "\n",
    "ax=Rate_built.plot.bar(rot=1,stacked=False, figsize=(12,5),fontsize=12)\n",
    "#ax.set_ylabel('Injury Severity Rate')\n",
    "plt.ylabel('Injury Severity Rate')\n",
    "plt.xlabel('Amateur Built?')\n",
    "plt.legend(title=None)\n",
    "for i in ax.containers:\n",
    "    ax.bar_label(i)"
   ]
  },
  {
   "cell_type": "code",
   "execution_count": 288,
   "metadata": {},
   "outputs": [],
   "source": [
    "# x_axis=np.arange(len(Rate_built))\n",
    "# plt.figure(figsize=(12,5))\n",
    "# ax=plt.bar(x_axis-0.2, Rate_built['Fatal'],width=0.2)\n",
    "# plt.bar_label(ax)\n",
    "# ax1=plt.bar(x_axis, Rate_built['Non-Fatal'],width=0.2)\n",
    "# plt.bar_label(ax1)\n",
    "# ax2=plt.bar(x_axis+0.2, Rate_built['Incident'] ,width=0.2)\n",
    "# plt.bar_label(ax2)\n",
    "# plt.xticks(x_axis, Rate_built.index, fontsize=12)\n",
    "# plt.legend(['Fatal','Non-Fatal','Incident'])"
   ]
  },
  {
   "cell_type": "markdown",
   "metadata": {},
   "source": [
    "## Observation 5:\n",
    "In different phases of flight during the time the accidents/incidents happened, maneuvering can cause the highest fatality rate, which is over 39%, while taxing is only 1.9%."
   ]
  },
  {
   "cell_type": "code",
   "execution_count": 207,
   "metadata": {},
   "outputs": [
    {
     "data": {
      "text/plain": [
       "Text(0.5, 0, 'Broad Phase of Flight (the time during the flight the accident happened)')"
      ]
     },
     "execution_count": 207,
     "metadata": {},
     "output_type": "execute_result"
    },
    {
     "data": {
      "image/png": "[encoded data removed]",
      "text/plain": [
       "<Figure size 1008x432 with 1 Axes>"
      ]
     },
     "metadata": {},
     "output_type": "display_data"
    }
   ],
   "source": [
    "## Fatality's relations with engine numbers \n",
    "\n",
    "Rate_EngineNum=df[(df['Broad.phase.of.flight'].notna())&(~((df['Injury.Severity'].isna())|(df['Injury.Severity']=='Unavailable')))].groupby('Broad.phase.of.flight')['Injury.Severity'].value_counts(normalize = True).unstack('Injury.Severity')\n",
    "\n",
    "# drop 'other' and 'unknown' items as the number of their samples are small (less than 1000)\n",
    "Rate_EngineNum.drop(index=['Other','Unknown'], inplace=True)\n",
    "\n",
    "# plot \n",
    "plt.figure(figsize=(14,6))\n",
    "ax=sns.barplot(x=Rate_EngineNum.Fatal.sort_values(ascending=False).index, y=Rate_EngineNum.Fatal.sort_values(ascending=False).values)\n",
    "#ax=Rate_EngineNum.Fatal.sort_values(ascending=False).plot(rot=1,kind='bar')\n",
    "\n",
    "ax.bar_label(ax.containers[0])\n",
    "ax.set_ylabel('Fatality Rate')\n",
    "ax.set_xlabel('Broad Phase of Flight (the time during the flight the accident happened)')"
   ]
  }
 ],
 "metadata": {
  "kernelspec": {
   "display_name": "Python 3",
   "language": "python",
   "name": "python3"
  },
  "language_info": {
   "codemirror_mode": {
    "name": "ipython",
    "version": 3
   },
   "file_extension": ".py",
   "mimetype": "text/x-python",
   "name": "python",
   "nbconvert_exporter": "python",
   "pygments_lexer": "ipython3",
   "version": "3.7.4"
  }
 },
 "nbformat": 4,
 "nbformat_minor": 2
}
